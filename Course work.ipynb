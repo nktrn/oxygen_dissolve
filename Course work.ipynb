{
 "cells": [
  {
   "cell_type": "markdown",
   "metadata": {},
   "source": [
    "### Анализ и прогнозирование временного ряда."
   ]
  },
  {
   "cell_type": "code",
   "execution_count": 3,
   "metadata": {},
   "outputs": [],
   "source": [
    "import numpy as np\n",
    "import pandas as pd\n",
    "import matplotlib.pyplot as plt\n",
    "from scipy import stats \n",
    "import warnings\n",
    "warnings.filterwarnings('ignore')\n",
    "%matplotlib inline"
   ]
  },
  {
   "cell_type": "markdown",
   "metadata": {},
   "source": [
    "#### Загрузка данных"
   ]
  },
  {
   "cell_type": "code",
   "execution_count": 4,
   "metadata": {
    "hide_input": false
   },
   "outputs": [
    {
     "data": {
      "text/html": [
       "<div>\n",
       "<style scoped>\n",
       "    .dataframe tbody tr th:only-of-type {\n",
       "        vertical-align: middle;\n",
       "    }\n",
       "\n",
       "    .dataframe tbody tr th {\n",
       "        vertical-align: top;\n",
       "    }\n",
       "\n",
       "    .dataframe thead th {\n",
       "        text-align: right;\n",
       "    }\n",
       "</style>\n",
       "<table border=\"1\" class=\"dataframe\">\n",
       "  <thead>\n",
       "    <tr style=\"text-align: right;\">\n",
       "      <th></th>\n",
       "      <th>Станция</th>\n",
       "      <th>Глубина станции, м</th>\n",
       "      <th>Прозр,м</th>\n",
       "      <th>Горизонт, м</th>\n",
       "      <th>Температура, оС</th>\n",
       "      <th>Раств кислород, мг/л</th>\n",
       "      <th>% насыщения</th>\n",
       "    </tr>\n",
       "    <tr>\n",
       "      <th>Дата</th>\n",
       "      <th></th>\n",
       "      <th></th>\n",
       "      <th></th>\n",
       "      <th></th>\n",
       "      <th></th>\n",
       "      <th></th>\n",
       "      <th></th>\n",
       "    </tr>\n",
       "  </thead>\n",
       "  <tbody>\n",
       "    <tr>\n",
       "      <th>1955-08-02</th>\n",
       "      <td>Станция-2</td>\n",
       "      <td>5.0</td>\n",
       "      <td>NaN</td>\n",
       "      <td>0.05</td>\n",
       "      <td>23.65</td>\n",
       "      <td>10.06</td>\n",
       "      <td>119.9</td>\n",
       "    </tr>\n",
       "    <tr>\n",
       "      <th>1955-08-02</th>\n",
       "      <td>Станция-2</td>\n",
       "      <td>5.0</td>\n",
       "      <td>NaN</td>\n",
       "      <td>3.00</td>\n",
       "      <td>19.00</td>\n",
       "      <td>5.27</td>\n",
       "      <td>57.2</td>\n",
       "    </tr>\n",
       "    <tr>\n",
       "      <th>1955-08-02</th>\n",
       "      <td>Станция-2</td>\n",
       "      <td>5.0</td>\n",
       "      <td>NaN</td>\n",
       "      <td>4.50</td>\n",
       "      <td>NaN</td>\n",
       "      <td>5.13</td>\n",
       "      <td>NaN</td>\n",
       "    </tr>\n",
       "    <tr>\n",
       "      <th>1955-08-18</th>\n",
       "      <td>Станция-2</td>\n",
       "      <td>5.5</td>\n",
       "      <td>NaN</td>\n",
       "      <td>0.05</td>\n",
       "      <td>22.30</td>\n",
       "      <td>9.96</td>\n",
       "      <td>115.5</td>\n",
       "    </tr>\n",
       "    <tr>\n",
       "      <th>1955-08-18</th>\n",
       "      <td>Станция-2</td>\n",
       "      <td>5.5</td>\n",
       "      <td>NaN</td>\n",
       "      <td>2.00</td>\n",
       "      <td>22.00</td>\n",
       "      <td>9.99</td>\n",
       "      <td>115.2</td>\n",
       "    </tr>\n",
       "  </tbody>\n",
       "</table>\n",
       "</div>"
      ],
      "text/plain": [
       "              Станция  Глубина станции, м  ... Раств кислород, мг/л  % насыщения\n",
       "Дата                                       ...                                  \n",
       "1955-08-02  Станция-2                 5.0  ...                10.06        119.9\n",
       "1955-08-02  Станция-2                 5.0  ...                 5.27         57.2\n",
       "1955-08-02  Станция-2                 5.0  ...                 5.13          NaN\n",
       "1955-08-18  Станция-2                 5.5  ...                 9.96        115.5\n",
       "1955-08-18  Станция-2                 5.5  ...                 9.99        115.2\n",
       "\n",
       "[5 rows x 7 columns]"
      ]
     },
     "execution_count": 4,
     "metadata": {},
     "output_type": "execute_result"
    }
   ],
   "source": [
    "df = pd.read_excel('data/Lake.xls', index_col='Дата')\n",
    "df.head()"
   ]
  },
  {
   "cell_type": "markdown",
   "metadata": {},
   "source": [
    "Будем исследовать растворимость кислорода на горизонте 3м за август месяц. Если за месяц имеется несколько наблюдений, возьмем среднее значение."
   ]
  },
  {
   "cell_type": "code",
   "execution_count": 5,
   "metadata": {},
   "outputs": [],
   "source": [
    "# Горизонт 3м и август месяц наблюдений растворимости кислорода\n",
    "df = df[ (df['Горизонт, м'] == 3) & (df.index.month == 8) ]['Раств кислород, мг/л']"
   ]
  },
  {
   "cell_type": "code",
   "execution_count": 6,
   "metadata": {
    "hide_input": false
   },
   "outputs": [],
   "source": [
    "# df.resample(rule='AS-AUG').mean()"
   ]
  },
  {
   "cell_type": "markdown",
   "metadata": {},
   "source": [
    "Будем исследовать наблюдения начиная с 1966 года."
   ]
  },
  {
   "cell_type": "code",
   "execution_count": 7,
   "metadata": {},
   "outputs": [],
   "source": [
    "df = df.resample(rule='AS-AUG').mean()['1966-08-01':]"
   ]
  },
  {
   "cell_type": "code",
   "execution_count": 8,
   "metadata": {},
   "outputs": [],
   "source": [
    "df.index.rename('Data', inplace=True);\n",
    "df.rename('Oxygen', inplace=True);"
   ]
  },
  {
   "cell_type": "markdown",
   "metadata": {},
   "source": [
    "### Подгтовка данных"
   ]
  },
  {
   "cell_type": "code",
   "execution_count": 9,
   "metadata": {},
   "outputs": [
    {
     "data": {
      "text/plain": [
       "Data\n",
       "1966-08-01    8.373333\n",
       "1967-08-01    8.720000\n",
       "1968-08-01    8.856667\n",
       "1969-08-01    8.925000\n",
       "1970-08-01         NaN\n",
       "Freq: AS-AUG, Name: Oxygen, dtype: float64"
      ]
     },
     "execution_count": 9,
     "metadata": {},
     "output_type": "execute_result"
    }
   ],
   "source": [
    "df.head()"
   ]
  },
  {
   "cell_type": "code",
   "execution_count": 10,
   "metadata": {},
   "outputs": [
    {
     "data": {
      "text/plain": [
       "3"
      ]
     },
     "execution_count": 10,
     "metadata": {},
     "output_type": "execute_result"
    }
   ],
   "source": [
    "df.isnull().sum()"
   ]
  },
  {
   "cell_type": "markdown",
   "metadata": {},
   "source": [
    "Видим, что имеются три пропуска. Заполним их средним арфемитическим соседних наблюдений."
   ]
  },
  {
   "cell_type": "code",
   "execution_count": 11,
   "metadata": {},
   "outputs": [],
   "source": [
    "for i in range(len(df)):\n",
    "    if np.isnan(df.iloc[i]):\n",
    "        df.iloc[i] = (df.iloc[i-1] + df.iloc[i+1]) / 2"
   ]
  },
  {
   "cell_type": "markdown",
   "metadata": {},
   "source": [
    "### График временного ряда"
   ]
  },
  {
   "cell_type": "code",
   "execution_count": 12,
   "metadata": {},
   "outputs": [],
   "source": [
    "def plot_attributes(ax, xlabel='', ylable='', title=''):\n",
    "    ax.set_xlabel(xlabel, size = 15, weight='bold')\n",
    "    ax.set_ylabel(ylable, size = 15, weight='bold')\n",
    "    ax.set_title(title, size = 10, weight='bold')\n",
    "    return ax"
   ]
  },
  {
   "cell_type": "code",
   "execution_count": 13,
   "metadata": {
    "hide_input": true
   },
   "outputs": [
    {
     "data": {
      "image/png": "[encoded data removed]",
      "text/plain": [
       "<Figure size 1440x576 with 1 Axes>"
      ]
     },
     "metadata": {
      "needs_background": "light"
     },
     "output_type": "display_data"
    }
   ],
   "source": [
    "ax = df.plot(figsize=(20, 8));\n",
    "plot_attributes(ax, 'Date', 'Oxygen dissolution');"
   ]
  },
  {
   "cell_type": "markdown",
   "metadata": {},
   "source": [
    "### Анализ графика\n",
    "- Так как мы используем наблюдения за август месяц с 1966 по 2012 года, то будем считать, что сезонность отсуствует.\n",
    "- Со временем значения наблюдений падают, что может свидетельствовать о наличии нисходящего тренда, однако явно распознать его нельзя.\n",
    "- Аномальные значения наблюдения при первом взгляде на график отсуствуют."
   ]
  },
  {
   "cell_type": "markdown",
   "metadata": {
    "hide_input": true
   },
   "source": [
    "### Описательные характеристики"
   ]
  },
  {
   "cell_type": "code",
   "execution_count": 14,
   "metadata": {
    "hide_input": true,
    "scrolled": false
   },
   "outputs": [
    {
     "data": {
      "text/html": [
       "<div>\n",
       "<style scoped>\n",
       "    .dataframe tbody tr th:only-of-type {\n",
       "        vertical-align: middle;\n",
       "    }\n",
       "\n",
       "    .dataframe tbody tr th {\n",
       "        vertical-align: top;\n",
       "    }\n",
       "\n",
       "    .dataframe thead th {\n",
       "        text-align: right;\n",
       "    }\n",
       "</style>\n",
       "<table border=\"1\" class=\"dataframe\">\n",
       "  <thead>\n",
       "    <tr style=\"text-align: right;\">\n",
       "      <th></th>\n",
       "      <th>satatistics</th>\n",
       "    </tr>\n",
       "  </thead>\n",
       "  <tbody>\n",
       "    <tr>\n",
       "      <th>observations</th>\n",
       "      <td>47</td>\n",
       "    </tr>\n",
       "    <tr>\n",
       "      <th>min-max</th>\n",
       "      <td>(7.44, 9.73)</td>\n",
       "    </tr>\n",
       "    <tr>\n",
       "      <th>mean</th>\n",
       "      <td>8.73957</td>\n",
       "    </tr>\n",
       "    <tr>\n",
       "      <th>variance</th>\n",
       "      <td>0.431117</td>\n",
       "    </tr>\n",
       "    <tr>\n",
       "      <th>skewness</th>\n",
       "      <td>-0.316759</td>\n",
       "    </tr>\n",
       "    <tr>\n",
       "      <th>kurtosis</th>\n",
       "      <td>-0.825824</td>\n",
       "    </tr>\n",
       "  </tbody>\n",
       "</table>\n",
       "</div>"
      ],
      "text/plain": [
       "               satatistics\n",
       "observations            47\n",
       "min-max       (7.44, 9.73)\n",
       "mean               8.73957\n",
       "variance          0.431117\n",
       "skewness         -0.316759\n",
       "kurtosis         -0.825824"
      ]
     },
     "execution_count": 14,
     "metadata": {},
     "output_type": "execute_result"
    }
   ],
   "source": [
    "def describe(series):\n",
    "    return pd.DataFrame(\n",
    "        index=['observations','min-max','mean','variance','skewness','kurtosis'], \n",
    "        data=stats.describe(series), \n",
    "        columns=['satatistics'])\n",
    "\n",
    "describe(df)"
   ]
  },
  {
   "cell_type": "markdown",
   "metadata": {},
   "source": [
    "- **Средняя растворимость кислорода**у озера Баторино в период с 1966 по 2012 год равна **8.74%.**\n",
    "\n",
    "- **Коэффициент асимметрии** равен **-0.31**, что означает, что асимметрия умеренная. У нормального распределения коэффициент равен 0, следовательно, распределение несимметрично и немного скошено влево.\n",
    "\n",
    "- **Коэффициент эксцесса** равен **-0.83**. У нормального распределения он имеет значение равное 0, из этого следует, что у нас пологий пик распределения по отношению к нормальному."
   ]
  },
  {
   "cell_type": "code",
   "execution_count": 15,
   "metadata": {
    "hide_input": true
   },
   "outputs": [],
   "source": [
    "from scipy.stats import shapiro, kstest\n",
    "from statsmodels.graphics.gofplots import qqplot\n",
    "\n",
    "def shapiro_test(series):\n",
    "    stat, p_val = shapiro(series)\n",
    "    print('Shapiro-Wilk test:')\n",
    "    print(f'p_value: {p_val}, statistics: {stat}')\n",
    "    if(p_val > 0.05):\n",
    "        print(f'assume a normal distribution')\n",
    "    else:\n",
    "        print(f'not assume a normal distribution')\n",
    "        \n",
    "def ks_test(series):\n",
    "    stat, p_val = kstest(series, 'norm')\n",
    "    print('Kolmogorov Smirnov test:')\n",
    "    print(f'p_value: {p_val}, statistics: {stat}')\n",
    "    if(p_val > 0.05):\n",
    "        print(f'assume a normal distribution')\n",
    "    else:\n",
    "        print(f'not assume a normal distribution')\n",
    "        \n",
    "def check_normal(series):\n",
    "    #Shapiro-Wilk test\n",
    "    shapiro_test(series)\n",
    "    \n",
    "    print()\n",
    "    \n",
    "    #Kolmogorov Smirnov test:\n",
    "    ks_test(series)\n",
    "    \n",
    "    fig, (ax1, ax2) = plt.subplots(nrows=1, ncols=2, figsize=(15,6))\n",
    "    \n",
    "    #Histogram. Number of Bins is calculated by Sturges rule: bins= 1 + log2[N], N - size of series\n",
    "    bins = int(3 + np.log2(series.size))\n",
    "    series.plot.hist(bins=bins, edgecolor='k', density=True, ax=ax1)\n",
    "    s_min, s_max = np.min(series), np.max(series)\n",
    "    s_mean, s_var = np.mean(series), np.var(series)\n",
    "    \n",
    "    mas = np.linspace(s_min, s_max, 100);\n",
    "    ax1.plot(mas, stats.norm.pdf(mas,loc=s_mean,scale=s_var), color='k');\n",
    "    plot_attributes(ax1, 'Oxygen dissolution', '', 'Histogram');\n",
    "    \n",
    "    #QQ plot\n",
    "    stats.probplot(series, plot=ax2)\n",
    "    plot_attributes(ax2, 'Normal theoretical quantiles', 'Oxygen dissolution quantiles', 'QQ-plot');\n",
    "    "
   ]
  },
  {
   "cell_type": "markdown",
   "metadata": {},
   "source": [
    "### Проверка на нормальное распределение"
   ]
  },
  {
   "cell_type": "code",
   "execution_count": 16,
   "metadata": {
    "scrolled": false
   },
   "outputs": [
    {
     "name": "stdout",
     "output_type": "stream",
     "text": [
      "Shapiro-Wilk test:\n",
      "p_value: 0.04968912899494171, statistics: 0.9515230655670166\n",
      "not assume a normal distribution\n",
      "\n",
      "Kolmogorov Smirnov test:\n",
      "p_value: 0.0, statistics: 0.9999999999999497\n",
      "not assume a normal distribution\n"
     ]
    },
    {
     "data": {
      "image/png": "[encoded data removed]",
      "text/plain": [
       "<Figure size 1080x432 with 2 Axes>"
      ]
     },
     "metadata": {
      "needs_background": "light"
     },
     "output_type": "display_data"
    }
   ],
   "source": [
    "check_normal(df)"
   ]
  },
  {
   "cell_type": "markdown",
   "metadata": {},
   "source": [
    "- Тест Шапиро-Уилка: p_value = 0.049 < 0.05, следовательно, гипотеза о нормальном рпспределении отвергается.\n",
    "- Тест Колмагорова-Смирнова: p_value = 0.00 < 0.05, следовательно, гипотеза о нормальном рпспределении отвергается.\n",
    "- Гистограмма скошена влево и имеет пологий пик. Данные не очень хорошо ложаться под график плотности нормального распределения.\n",
    "- Точки на квантиль-квантиль графике выстраиваются в прямую линию, однако на концах присутсвуют отклонения.\n",
    "\n",
    "**Вывод: исходный ряд не подчиняется закону нормального распределения**"
   ]
  },
  {
   "cell_type": "code",
   "execution_count": 17,
   "metadata": {
    "hide_input": true
   },
   "outputs": [],
   "source": [
    "from statsmodels.tsa.stattools import adfuller\n",
    "\n",
    "def adf_test(series,title=''):\n",
    "    \"\"\"\n",
    "    Pass in a time series and an optional title, returns an ADF report\n",
    "    \"\"\"\n",
    "    print(f'Augmented Dickey-Fuller Test: {title}')\n",
    "    result = adfuller(series.dropna(),autolag='AIC') # .dropna() handles differenced data\n",
    "    \n",
    "    labels = ['ADF test statistic','p-value','# lags used','# observations']\n",
    "    out = pd.Series(result[0:4],index=labels)\n",
    "\n",
    "    for key,val in result[4].items():\n",
    "        out[f'critical value ({key})']=val\n",
    "        \n",
    "    print(out.to_string())          # .to_string() removes the line \"dtype: float64\"\n",
    "    \n",
    "    if result[1] <= 0.05:\n",
    "        print(\"Strong evidence against the null hypothesis\")\n",
    "        print(\"Reject the null hypothesis\")\n",
    "        print(\"Data has no unit root and is stationary\")\n",
    "    else:\n",
    "        print(\"Weak evidence against the null hypothesis\")\n",
    "        print(\"Fail to reject the null hypothesis\")\n",
    "        print(\"Data has a unit root and is non-stationary\")"
   ]
  },
  {
   "cell_type": "markdown",
   "metadata": {
    "hide_input": true
   },
   "source": [
    "### Проверка на стационраность"
   ]
  },
  {
   "cell_type": "code",
   "execution_count": 18,
   "metadata": {
    "hide_input": false
   },
   "outputs": [
    {
     "name": "stdout",
     "output_type": "stream",
     "text": [
      "Augmented Dickey-Fuller Test: \n",
      "ADF test statistic      -5.013826\n",
      "p-value                  0.000021\n",
      "# lags used              0.000000\n",
      "# observations          46.000000\n",
      "critical value (1%)     -3.581258\n",
      "critical value (5%)     -2.926785\n",
      "critical value (10%)    -2.601541\n",
      "Strong evidence against the null hypothesis\n",
      "Reject the null hypothesis\n",
      "Data has no unit root and is stationary\n"
     ]
    }
   ],
   "source": [
    "adf_test(df)"
   ]
  },
  {
   "cell_type": "markdown",
   "metadata": {},
   "source": [
    "Тест Дики-Фуллера: p_value < 0.05, следовательно гипотеза о наличии единиченого корня отвергается и следовательно ряд стационарный."
   ]
  },
  {
   "cell_type": "markdown",
   "metadata": {},
   "source": [
    "### Фунция автокорреляций"
   ]
  },
  {
   "cell_type": "code",
   "execution_count": 19,
   "metadata": {},
   "outputs": [
    {
     "data": {
      "image/png": "[encoded data removed]",
      "text/plain": [
       "<Figure size 720x360 with 1 Axes>"
      ]
     },
     "metadata": {
      "needs_background": "light"
     },
     "output_type": "display_data"
    }
   ],
   "source": [
    "from statsmodels.graphics.tsaplots import plot_acf, plot_pacf\n",
    "fig, ax = plt.subplots(figsize=(10,5))\n",
    "plot_acf(df, lags=15, ax=ax);\n",
    "#plot_pacf(df);"
   ]
  },
  {
   "cell_type": "markdown",
   "metadata": {},
   "source": [
    "начиная с первого лага, значения функции автокорреляции можно считать равными нулю."
   ]
  },
  {
   "cell_type": "markdown",
   "metadata": {},
   "source": [
    "#### Тесты Льюнга-Бокса и Бокса-Пирсона"
   ]
  },
  {
   "cell_type": "code",
   "execution_count": 23,
   "metadata": {},
   "outputs": [],
   "source": [
    "from statsmodels.stats.diagnostic import acorr_ljungbox"
   ]
  },
  {
   "cell_type": "code",
   "execution_count": 39,
   "metadata": {
    "scrolled": true
   },
   "outputs": [
    {
     "data": {
      "text/html": [
       "<div>\n",
       "<style scoped>\n",
       "    .dataframe tbody tr th:only-of-type {\n",
       "        vertical-align: middle;\n",
       "    }\n",
       "\n",
       "    .dataframe tbody tr th {\n",
       "        vertical-align: top;\n",
       "    }\n",
       "\n",
       "    .dataframe thead th {\n",
       "        text-align: right;\n",
       "    }\n",
       "</style>\n",
       "<table border=\"1\" class=\"dataframe\">\n",
       "  <thead>\n",
       "    <tr style=\"text-align: right;\">\n",
       "      <th></th>\n",
       "      <th>lb_stat</th>\n",
       "      <th>lb_pvalue</th>\n",
       "      <th>bp_stat</th>\n",
       "      <th>bp_pvalue</th>\n",
       "    </tr>\n",
       "  </thead>\n",
       "  <tbody>\n",
       "    <tr>\n",
       "      <th>1</th>\n",
       "      <td>2.403042</td>\n",
       "      <td>0.121100</td>\n",
       "      <td>2.255917</td>\n",
       "      <td>0.133105</td>\n",
       "    </tr>\n",
       "    <tr>\n",
       "      <th>2</th>\n",
       "      <td>3.109719</td>\n",
       "      <td>0.211219</td>\n",
       "      <td>2.904906</td>\n",
       "      <td>0.233996</td>\n",
       "    </tr>\n",
       "    <tr>\n",
       "      <th>3</th>\n",
       "      <td>3.170744</td>\n",
       "      <td>0.366042</td>\n",
       "      <td>2.959704</td>\n",
       "      <td>0.397880</td>\n",
       "    </tr>\n",
       "    <tr>\n",
       "      <th>4</th>\n",
       "      <td>3.690356</td>\n",
       "      <td>0.449530</td>\n",
       "      <td>3.415690</td>\n",
       "      <td>0.490813</td>\n",
       "    </tr>\n",
       "    <tr>\n",
       "      <th>5</th>\n",
       "      <td>3.745030</td>\n",
       "      <td>0.586677</td>\n",
       "      <td>3.462553</td>\n",
       "      <td>0.629061</td>\n",
       "    </tr>\n",
       "  </tbody>\n",
       "</table>\n",
       "</div>"
      ],
      "text/plain": [
       "    lb_stat  lb_pvalue   bp_stat  bp_pvalue\n",
       "1  2.403042   0.121100  2.255917   0.133105\n",
       "2  3.109719   0.211219  2.904906   0.233996\n",
       "3  3.170744   0.366042  2.959704   0.397880\n",
       "4  3.690356   0.449530  3.415690   0.490813\n",
       "5  3.745030   0.586677  3.462553   0.629061"
      ]
     },
     "execution_count": 39,
     "metadata": {},
     "output_type": "execute_result"
    }
   ],
   "source": [
    "acorr_ljungbox(df, lags=5, boxpierce=True,return_df=True)"
   ]
  },
  {
   "cell_type": "markdown",
   "metadata": {},
   "source": [
    "При проведении тестов, были получены статистики и p-значения для первых пяти лагов. Они показали, что нельзя отвергнуть гипотезу о том, что данные случайны(являются белым шумом)."
   ]
  },
  {
   "cell_type": "markdown",
   "metadata": {},
   "source": [
    "### Проверим ряд на наличие тренда.\n",
    "проведем два теста:\n",
    "1. Тест Фостера-Стюарда\n",
    "2. Критерий серий"
   ]
  },
  {
   "cell_type": "code",
   "execution_count": 130,
   "metadata": {
    "hide_input": true
   },
   "outputs": [],
   "source": [
    "# Foster-Stewart test\n",
    "def FStest(series, alpha):\n",
    "    n = series.size\n",
    "\n",
    "    m = np.array([np.prod(series[:i] > series[i]) for i in range(1, n)])\n",
    "    l = np.array([np.prod(series[:i] < series[i]) for i in range(1, n)])\n",
    "    \n",
    "    D = (m - l).sum()\n",
    "    R = (m + l).sum()\n",
    "\n",
    "    nu = sum([2/i for i in range(2, n)])\n",
    "    s_D = np.sqrt(2*np.log(n)-0.8456)\n",
    "    s_R = np.sqrt(2*np.log(n)-3.4253)\n",
    "    \n",
    "    t_D = np.abs(D/s_D)\n",
    "    t_S = np.abs((R-nu)/s_R)\n",
    "    t_critical = stats.t.ppf(q=1-alpha/2,df=n-2)\n",
    "    \n",
    "    print('Foster-Stewart test: ')\n",
    "    if t_D > t_critical or t_S > t_critical:\n",
    "        print('Reject the H0 hypotysis, series contains trend')\n",
    "    else:\n",
    "        print('Faile to reject Ho, series does not contains trend')\n",
    "        \n",
    "    print(f'Statistic for the trend in mean: {t_S}, p-value: {2*stats.t.sf(t_S, df=n-2)}')\n",
    "    print(f'Statistic for the trend in variance: {t_D}, p-value: {2*stats.t.sf(t_D, df=n-2)}')\n",
    "    print(f'Critical value: {t_critical}')"
   ]
  },
  {
   "cell_type": "code",
   "execution_count": 131,
   "metadata": {
    "hide_input": true
   },
   "outputs": [],
   "source": [
    "# Inversion criterion\n",
    "def INV_test(series, alpha):\n",
    "    n = series.size\n",
    "    I = [\n",
    "        sum([1 if series[t] > series[k] else 0 for k in range(t+1, n)]) \n",
    "        for t in range(n-1)\n",
    "    ]\n",
    "    mean = n*(n-1)/4\n",
    "    sd = np.sqrt(n*(2*n+5)*(n-1)/72)\n",
    "    statistic = np.abs((sum(I) - mean) / sd)\n",
    "    p_value = 2 * stats.norm.sf(statistic)\n",
    "    return dict(statistic=statistic, p_value=p_value)\n",
    "    "
   ]
  },
  {
   "cell_type": "code",
   "execution_count": 132,
   "metadata": {},
   "outputs": [
    {
     "name": "stdout",
     "output_type": "stream",
     "text": [
      "Foster-Stewart test: \n",
      "Faile to reject Ho, series does not contains trend\n",
      "Statistic for the trend in mean: 1.0478908205083783, p-value: 0.30028471528047557\n",
      "Statistic for the trend in variance: 1.909747411679221, p-value: 0.06255269637086287\n",
      "Critical value: 2.0141033848332923\n"
     ]
    },
    {
     "data": {
      "text/plain": [
       "{'statistic': 2.4485110697454933, 'p_value': 0.014344802199389037}"
      ]
     },
     "execution_count": 132,
     "metadata": {},
     "output_type": "execute_result"
    }
   ],
   "source": [
    "FStest(df, 0.05)\n",
    "INV_test(df, 0.05)"
   ]
  },
  {
   "cell_type": "markdown",
   "metadata": {},
   "source": [
    "Так как делал функции для вычисления статистики этих двух тестов сам, не могу быть уверен в их правильности на 100 процентов.\n",
    "- критерий Фостера-Стюарта не отвергает гипотезу об отсутствии тренда.\n",
    "- критерий инверсий отвергает гипотезу об отсутствии тренда."
   ]
  }
 ],
 "metadata": {
  "kernelspec": {
   "display_name": "Python 3",
   "language": "python",
   "name": "python3"
  },
  "language_info": {
   "codemirror_mode": {
    "name": "ipython",
    "version": 3
   },
   "file_extension": ".py",
   "mimetype": "text/x-python",
   "name": "python",
   "nbconvert_exporter": "python",
   "pygments_lexer": "ipython3",
   "version": "3.8.3"
  }
 },
 "nbformat": 4,
 "nbformat_minor": 4
}
